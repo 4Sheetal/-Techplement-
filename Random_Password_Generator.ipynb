{
  "nbformat": 4,
  "nbformat_minor": 0,
  "metadata": {
    "colab": {
      "provenance": [],
      "authorship_tag": "ABX9TyN0bs2ARBMoAWFJH0tEzmOu",
      "include_colab_link": true
    },
    "kernelspec": {
      "name": "python3",
      "display_name": "Python 3"
    },
    "language_info": {
      "name": "python"
    }
  },
  "cells": [
    {
      "cell_type": "markdown",
      "metadata": {
        "id": "view-in-github",
        "colab_type": "text"
      },
      "source": [
        "<a href=\"https://colab.research.google.com/github/4Sheetal/-Techplement-/blob/main/Random_Password_Generator.ipynb\" target=\"_parent\"><img src=\"https://colab.research.google.com/assets/colab-badge.svg\" alt=\"Open In Colab\"/></a>"
      ]
    },
    {
      "cell_type": "code",
      "source": [
        "import random\n",
        "import string\n",
        "\n",
        "def generate_password(length, upper, lower, digits, special):\n",
        "    chars = \"\"\n",
        "    if upper:\n",
        "        chars += string.ascii_uppercase\n",
        "    if lower:\n",
        "        chars += string.ascii_lowercase\n",
        "    if digits:\n",
        "        chars += string.digits\n",
        "    if special:\n",
        "        chars += string.punctuation\n",
        "\n",
        "    if not chars:\n",
        "        print(\"Error: At least one character set (upper, lower, digits, special) must be selected.\")\n",
        "        return None\n",
        "\n",
        "    return ''.join(random.choice(chars) for _ in range(length))\n",
        "\n",
        "def main():\n",
        "    # Ask for user input\n",
        "    length = int(input(\"Enter the length of the password: \"))\n",
        "    upper = input(\"Include uppercase letters? (y/n): \").lower() == 'y'\n",
        "    lower = input(\"Include lowercase letters? (y/n): \").lower() == 'y'\n",
        "    digits = input(\"Include digits? (y/n): \").lower() == 'y'\n",
        "    special = input(\"Include special characters? (y/n): \").lower() == 'y'\n",
        "\n",
        "    password = generate_password(length, upper, lower, digits, special)\n",
        "    if password:\n",
        "        print(\"Generated Password:\", password)\n",
        "\n",
        "if __name__ == \"__main__\":\n",
        "    main()\n"
      ],
      "metadata": {
        "colab": {
          "base_uri": "https://localhost:8080/"
        },
        "id": "h7TJdKjOmuRJ",
        "outputId": "17f4aaab-71fe-4ea3-d3db-47f6603e4924"
      },
      "execution_count": 2,
      "outputs": [
        {
          "output_type": "stream",
          "name": "stdout",
          "text": [
            "Enter the length of the password: 10\n",
            "Include uppercase letters? (y/n): y\n",
            "Include lowercase letters? (y/n): n\n",
            "Include digits? (y/n): y\n",
            "Include special characters? (y/n): y\n",
            "Generated Password: +-8(I0X2@8\n"
          ]
        }
      ]
    },
    {
      "cell_type": "markdown",
      "source": [
        "Importing Libraries:\n",
        "The script imports the random and string modules from the Python standard library. These modules are used to generate random characters for the password.\n",
        "\n",
        "The `generate_password` function creates a random password based on the provided criteria. It accepts the following parameters:\n",
        "\n",
        "`length`: The desired length of the password.\n",
        "`upper`: A boolean indicating whether uppercase letters should be included.\n",
        "`lower`: A boolean indicating whether lowercase letters should be included.\n",
        "`digits`: A boolean indicating whether digits should be included.\n",
        "`special`: A boolean indicating whether special characters should be included.\n",
        "Initially, the function initializes an empty string called chars to store all the possible characters that could be part of the password. Then, it examines each parameter (upper, lower, digits, special) and adds the corresponding characters from the string module to chars. If none of the character sets are selected, it prints an error message and returns None.\n",
        "\n",
        "Once chars is populated with the selected character sets, the function generates a random password of the specified length by randomly choosing characters from chars and concatenating them together. Finally, it returns the generated password.\n",
        "The main function is the entry point of the script. It interacts with the user to get input for generating the password and then calls the generate_password function with the provided inputs. Finally, it prints the generated password.\n",
        "In the main function:\n",
        "\n",
        "It prompts the user to input the desired length of the password and whether to include uppercase letters, lowercase letters, digits, and special characters.\n",
        "It converts the user input to boolean values (True for 'y' and False for 'n').\n",
        "It calls the `generate_password` function with the user-provided inputs and prints the generated password if it's not None.\n",
        "Overall, this script allows users to generate random passwords with customized length and complexity based on their preferences.\n",
        "\n",
        "\n",
        "\n",
        "\n",
        "\n"
      ],
      "metadata": {
        "id": "6HrwofitoGLP"
      }
    },
    {
      "cell_type": "code",
      "source": [],
      "metadata": {
        "id": "a26XLwcXl8mc"
      },
      "execution_count": null,
      "outputs": []
    }
  ]
}